{
 "cells": [
  {
   "cell_type": "code",
   "execution_count": 69,
   "metadata": {},
   "outputs": [
    {
     "name": "stdout",
     "output_type": "stream",
     "text": [
      "[[0.63695285 0.65426241 0.57982633]\n",
      " [0.08764177 0.56054516 0.16437923]\n",
      " [0.46294573 0.24862858 0.55164928]\n",
      " [0.38926806 0.73906178 0.30214766]\n",
      " [0.27244172 0.35221697 0.79328061]\n",
      " [0.008844   0.65110151 0.93845339]\n",
      " [0.54927451 0.18305313 0.23755896]\n",
      " [0.01914995 0.25695318 0.27716812]\n",
      " [0.27988193 0.48475742 0.10812806]\n",
      " [0.66260349 0.96434716 0.86336282]]\n",
      "0.5798263253341532\n",
      "0.5605451637006925\n",
      "0.4629457328189748\n",
      "0.3892680647129151\n",
      "0.3522169680326308\n",
      "0.6511015062102502\n",
      "0.5492745124617152\n",
      "0.2771681239588851\n",
      "0.48475741901354463\n",
      "0.6626034897591725\n"
     ]
    }
   ],
   "source": [
    "#1-первая задача\n",
    "import numpy as np\n",
    "L = np.random.random((10,3))\n",
    "print(L)\n",
    "for i in range(L.shape[0]):\n",
    "    print(L[i,np.argmin(np.absolute(L[i]-0.5))])"
   ]
  },
  {
   "cell_type": "code",
   "execution_count": 68,
   "metadata": {},
   "outputs": [
    {
     "name": "stdout",
     "output_type": "stream",
     "text": [
      "[[0.41789345 0.0455437  0.40320135 0.24753103 0.76719587 0.14682865]\n",
      " [0.66105771 0.35886435 0.68012122 0.86442557 0.54805472 0.97277356]\n",
      " [0.14066683 0.68420126 0.5126043  0.16409229 0.8798382  0.70853288]\n",
      " [0.64821876 0.91844651 0.04725383 0.03741604 0.26010068 0.47651566]\n",
      " [0.53314944 0.85808859 0.62917749 0.64042259 0.44188596 0.13292374]\n",
      " [0.01918892 0.70170094 0.67130091 0.21067869 0.22549644 0.47702924]]\n",
      "105.69607475555918\n",
      "89.70059936182373\n",
      "65.39017232558598\n",
      "63.82160492221557\n",
      "14.348997199753592\n",
      "17.34374302121866\n"
     ]
    }
   ],
   "source": [
    "#2-ая задача\n",
    "L = np.random.random((6,6))\n",
    "print(L)\n",
    "for i in range(L.shape[0]):\n",
    "    print(np.sum(L[i])/np.min(L[:,i]))"
   ]
  },
  {
   "cell_type": "code",
   "execution_count": 67,
   "metadata": {},
   "outputs": [
    {
     "name": "stdout",
     "output_type": "stream",
     "text": [
      "5\n"
     ]
    }
   ],
   "source": [
    "#3-ья задача\n",
    "x = np.array([6, 2, 0, 3, 0, 0, 5, 7, 0])\n",
    "x=[x[i] for i in range(1,x.shape[0]) if (x[i-1]==0)]\n",
    "print(np.max(x))"
   ]
  },
  {
   "cell_type": "code",
   "execution_count": 74,
   "metadata": {},
   "outputs": [
    {
     "name": "stdout",
     "output_type": "stream",
     "text": [
      "[2. 2. 2. 2. 1. 4. 1. 1. 2. 1.]\n"
     ]
    }
   ],
   "source": [
    "#4-ая задача\n",
    "x = np.ones(10)\n",
    "i = np.array([0, 1, 2, 3, 5, 5, 5, 8])\n",
    "for j in range(x.shape[0]):\n",
    "    c=0\n",
    "    for k in range(i.shape[0]): \n",
    "        if (i[k]==j): c+=1\n",
    "    x[j]+=c\n",
    "print(x)"
   ]
  }
 ],
 "metadata": {
  "kernelspec": {
   "display_name": "Python 3",
   "language": "python",
   "name": "python3"
  },
  "language_info": {
   "codemirror_mode": {
    "name": "ipython",
    "version": 3
   },
   "file_extension": ".py",
   "mimetype": "text/x-python",
   "name": "python",
   "nbconvert_exporter": "python",
   "pygments_lexer": "ipython3",
   "version": "3.7.0"
  }
 },
 "nbformat": 4,
 "nbformat_minor": 2
}
