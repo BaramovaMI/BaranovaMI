{
 "cells": [
  {
   "cell_type": "code",
   "execution_count": 2,
   "metadata": {},
   "outputs": [
    {
     "name": "stdout",
     "output_type": "stream",
     "text": [
      "[[0.15533414 0.72414417 0.80965734]\n",
      " [0.08646066 0.63078505 0.56035761]\n",
      " [0.29441065 0.13158363 0.14134378]\n",
      " [0.75856291 0.07472807 0.74246087]\n",
      " [0.62391787 0.69778115 0.69573331]\n",
      " [0.62659504 0.75499704 0.81950221]\n",
      " [0.61115937 0.14452869 0.38515366]\n",
      " [0.86836543 0.63721908 0.52751225]\n",
      " [0.47365182 0.70251598 0.0757878 ]\n",
      " [0.08463325 0.3861532  0.61803813]]\n",
      "0.7241441725152431\n",
      "0.5603576074377172\n",
      "0.2944106506545333\n",
      "0.7424608694395046\n",
      "0.6239178725918942\n",
      "0.6265950365381152\n",
      "0.6111593667735853\n",
      "0.527512254843678\n",
      "0.473651817015575\n",
      "0.38615320114830776\n"
     ]
    }
   ],
   "source": [
    "#1-первая задача\n",
    "import numpy as np\n",
    "L = np.random.random((10,3))\n",
    "print(L)\n",
    "for i in range(L.shape[0]):\n",
    "    print(L[i,np.argmin(np.absolute(L[i]-0.5))])"
   ]
  },
  {
   "cell_type": "code",
   "execution_count": 3,
   "metadata": {},
   "outputs": [
    {
     "name": "stdout",
     "output_type": "stream",
     "text": [
      "[[0.51062444 0.91722396 0.84799496 0.05635986 0.94858036 0.52557082]\n",
      " [0.49227155 0.03627966 0.82604896 0.07080733 0.14218242 0.70282062]\n",
      " [0.93449535 0.62397377 0.55993901 0.52801966 0.68493926 0.28590634]\n",
      " [0.96784244 0.84285403 0.73421813 0.39826239 0.90598824 0.07172608]\n",
      " [0.39852602 0.45580926 0.33976477 0.51353385 0.06355481 0.4362287 ]\n",
      " [0.06338075 0.04050484 0.88267972 0.30488986 0.25513753 0.14541981]]\n",
      "60.055373855257756\n",
      "62.58080937299178\n",
      "10.646404991255022\n",
      "69.56885957240887\n",
      "34.7325024237027\n",
      "23.589919620057117\n"
     ]
    }
   ],
   "source": [
    "#2-ая задача\n",
    "L = np.random.random((6,6))\n",
    "print(L)\n",
    "for i in range(L.shape[0]):\n",
    "    print(np.sum(L[i])/np.min(L[:,i]))"
   ]
  },
  {
   "cell_type": "code",
   "execution_count": 5,
   "metadata": {},
   "outputs": [
    {
     "name": "stdout",
     "output_type": "stream",
     "text": [
      "5\n"
     ]
    }
   ],
   "source": [
    "#3-ья задача\n",
    "x = np.array([6, 2, 0, 3, 0, 0, 5, 7, 0])\n",
    "x=[x[i] for i in range(1,x.shape[0]) if (x[i-1]==0)]\n",
    "print(np.max(x))"
   ]
  },
  {
   "cell_type": "code",
   "execution_count": 6,
   "metadata": {},
   "outputs": [
    {
     "name": "stdout",
     "output_type": "stream",
     "text": [
      "[2. 2. 2. 2. 1. 4. 1. 1. 2. 1.]\n"
     ]
    }
   ],
   "source": [
    "#4-ая задача\n",
    "x = np.ones(10)\n",
    "i = np.array([0, 1, 2, 3, 5, 5, 5, 8])\n",
    "for j in range(x.shape[0]):\n",
    "    c=0\n",
    "    for k in range(i.shape[0]): \n",
    "        if (i[k]==j): c+=1\n",
    "    x[j]+=c\n",
    "print(x)"
   ]
  },
  {
   "cell_type": "code",
   "execution_count": 8,
   "metadata": {},
   "outputs": [
    {
     "name": "stdout",
     "output_type": "stream",
     "text": [
      "6\n",
      "[0 1 2 3 4 5]\n",
      "[[0.9 0.8]\n",
      " [1.7 2.4]\n",
      " [0.3 1.8]\n",
      " [0.3 1.5]\n",
      " [0.1 0.1]\n",
      " [2.  0.5]]\n"
     ]
    },
    {
     "data": {
      "image/png": "[encoded data removed]",
      "text/plain": [
       "<Figure size 432x288 with 1 Axes>"
      ]
     },
     "metadata": {
      "needs_background": "light"
     },
     "output_type": "display_data"
    }
   ],
   "source": [
    "#5-ая задача\n",
    "\n",
    "import numpy as np\n",
    "import matplotlib.pyplot as plt\n",
    "\n",
    "data  = np.array([[ 1.9,2.3],[ 1.5,2.5],[ 0.8,0.6],[ 0.4,1.8],[ 0.1,0.1],[ 0.2,1.8],[ 2.0,0.5],[ 0.3,1.5],[ 1.0,1.0]])\n",
    "\n",
    "num_cluster = int(input())\n",
    "def Sredne(obs,num_cluster,iterat=20, thresh=1e-05):\n",
    "    DIM = 2\n",
    "    N = obs.shape[0]\n",
    "\n",
    "    x = obs\n",
    "    y = np.zeros(N)\n",
    "    k=np.arange(0,num_cluster,1)\n",
    "    print(k)\n",
    "    \n",
    "    index_ = np.random.choice(range(N),num_cluster,replace=False)\n",
    "    mean = x[index_]\n",
    "    s1 = 0\n",
    "    s2 = 0\n",
    "    t = 0\n",
    "\n",
    "    while(s2-s1 > thresh or t < iterat):\n",
    "        if t != 0:\n",
    "            mean=np.array(list(map(lambda m: np.mean(x[y==m], axis=0), k)))\n",
    "            s = list(map(lambda m: ((mean[m,0])**2 + (mean[m,1])**2)**(1/2), k))\n",
    "            s1 = (np.sum(s))\n",
    "        for i in range(N):\n",
    "            dist = np.sum((mean - x[i])**2, axis=1)\n",
    "            pred = np.argmin(dist)\n",
    "            y[i] = pred\n",
    "        s = list(map(lambda m: ((mean[m,0])**2 + (mean[m,1])**2)**(1/2), k))\n",
    "        s1 = (np.sum(s))\n",
    "        t+=1\n",
    "    print(np.array(mean))\n",
    "    plt.scatter(x[:,0], x[:,1], c = y)\n",
    "    plt.show()\n",
    "Sredne(data,num_cluster)"
   ]
  },
  {
   "cell_type": "code",
   "execution_count": null,
   "metadata": {},
   "outputs": [],
   "source": []
  }
 ],
 "metadata": {
  "kernelspec": {
   "display_name": "Python 3",
   "language": "python",
   "name": "python3"
  },
  "language_info": {
   "codemirror_mode": {
    "name": "ipython",
    "version": 3
   },
   "file_extension": ".py",
   "mimetype": "text/x-python",
   "name": "python",
   "nbconvert_exporter": "python",
   "pygments_lexer": "ipython3",
   "version": "3.7.0"
  }
 },
 "nbformat": 4,
 "nbformat_minor": 2
}
