{
 "cells": [
  {
   "cell_type": "code",
   "execution_count": 35,
   "metadata": {},
   "outputs": [],
   "source": [
    "import numpy as np\n",
    "import matplotlib.pyplot as plt\n",
    "import random as random\n",
    "state_wheather = (\"sunny\", \"cloudy\", \"rainy\")\n",
    "transition_matrix = np.array(((0.6, 0.3, 0.1),\n",
    "                              (0.3, 0.4, 0.3),\n",
    "                              (0.2, 0.3, 0.5)))"
   ]
  },
  {
   "cell_type": "markdown",
   "metadata": {},
   "source": [
    "### Задание 1. \n",
    "###### Выберите произвольное начальное состояние и смоделируйте 20000 последующих состояний в цепи Маркова с введенной выше матрицей переходов. Результат моделирования (массив размера 20000) запишите в переменную states."
   ]
  },
  {
   "cell_type": "code",
   "execution_count": 36,
   "metadata": {},
   "outputs": [
    {
     "name": "stdout",
     "output_type": "stream",
     "text": [
      "[0. 0. 1. ... 0. 0. 0.]\n"
     ]
    }
   ],
   "source": [
    "states = np.empty(20000)\n",
    "states[0] = 0\n",
    "wheather = np.array((1,0,0))\n",
    "for i in range(19999):\n",
    "    k = np.random.choice(3, p = np.dot(wheather,transition_matrix))\n",
    "    states[i+1] = k\n",
    "    wheather = np.zeros(3)\n",
    "    wheather[k] = 1\n",
    "print (states)"
   ]
  },
  {
   "cell_type": "markdown",
   "metadata": {},
   "source": [
    "### Задание 2. \n",
    "###### На основе массива states рассчитайте, как меняется частота встречаемости каждого из типов погоды в массиве states[:n] для n, возрастающих от 1 до 20000. На одном рисунке покажите 3 графика: по оси х откладывайте n, по у - частоту для каждого из трех типов погоды. "
   ]
  },
  {
   "cell_type": "code",
   "execution_count": 48,
   "metadata": {},
   "outputs": [
    {
     "data": {
      "image/png": "[encoded data removed]",
      "text/plain": [
       "<Figure size 720x360 with 1 Axes>"
      ]
     },
     "metadata": {
      "needs_background": "light"
     },
     "output_type": "display_data"
    }
   ],
   "source": [
    "static = np.empty([20000, 3])\n",
    "for n in range(20000):\n",
    "    static[n, 0] = (states[:n+1]==0).sum() / (n + 1)\n",
    "    static[n, 1] = (states[:n+1]==1).sum() / (n + 1)\n",
    "    static[n, 2] = 1 - static[n, 0] - static[n, 1]\n",
    "plt.figure(figsize=(10,5))\n",
    "plt.plot(np.arange(20000),static[:, 0], label = \"Sunny\", color = 'navajowhite')\n",
    "plt.plot(np.arange(20000),static[:, 1], label = \"Cloudy\", color = 'silver')\n",
    "plt.plot(np.arange(20000),static[:, 2] , label = \"Rainy\", color = 'mediumturquoise')\n",
    "plt.legend()\n",
    "plt.ylabel('Probability')\n",
    "plt.title('Markov')\n",
    "plt.show()"
   ]
  },
  {
   "cell_type": "markdown",
   "metadata": {},
   "source": [
    "### Задание 3. \n",
    "###### Как следует из картинки, частоты сходятся к некоторым стационарным значениям. Убедитесь, что эти значения совпадают с решением уравнения на стационарную плотность πP=π, где P - это матрица переходных вероятностей (transition_matrix), а вектор π - искомая стационарная плотность. Дополнительно убедитесь, это этот же вектор возникает в строках матрицы P, при возведении ее во все большие степени."
   ]
  },
  {
   "cell_type": "code",
   "execution_count": 49,
   "metadata": {},
   "outputs": [
    {
     "name": "stdout",
     "output_type": "stream",
     "text": [
      "[0.40035 0.3286  0.27105]\n",
      "[0.393   0.33286 0.27414]\n",
      "[[0.38888889 0.33333333 0.27777778]\n",
      " [0.38888889 0.33333333 0.27777778]\n",
      " [0.38888889 0.33333333 0.27777778]]\n"
     ]
    }
   ],
   "source": [
    "print( np.array((static[n, :])) )\n",
    "print( np.dot(np.array((static[n, :])), transition_matrix) )\n",
    "k = random.randint(10, 20000)\n",
    "print( np.linalg.matrix_power(transition_matrix, k) )"
   ]
  },
  {
   "cell_type": "code",
   "execution_count": null,
   "metadata": {},
   "outputs": [],
   "source": []
  }
 ],
 "metadata": {
  "kernelspec": {
   "display_name": "Python 3",
   "language": "python",
   "name": "python3"
  },
  "language_info": {
   "codemirror_mode": {
    "name": "ipython",
    "version": 3
   },
   "file_extension": ".py",
   "mimetype": "text/x-python",
   "name": "python",
   "nbconvert_exporter": "python",
   "pygments_lexer": "ipython3",
   "version": "3.7.0"
  }
 },
 "nbformat": 4,
 "nbformat_minor": 2
}
