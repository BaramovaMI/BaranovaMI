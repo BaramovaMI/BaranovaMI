{
 "cells": [
  {
   "cell_type": "code",
   "execution_count": 42,
   "metadata": {},
   "outputs": [
    {
     "name": "stdout",
     "output_type": "stream",
     "text": [
      "Passed\n",
      "Passed\n",
      "Passed\n",
      "Passed\n",
      "Passed\n",
      "Passed\n"
     ]
    }
   ],
   "source": [
    "\n",
    "class Test:\n",
    "    @staticmethod\n",
    "    def assert_equals(a, b, *args, **kwargs):\n",
    "        assert a == b\n",
    "        print('Passed')\n",
    "\n",
    "# Write a function that stutters a word as if someone is struggling to read it. The first two letters are repeated twice with an ellipsis ... and space after each, and then the word is pronounced with a question mark ?.\n",
    "# https://edabit.com/challenge/gt9LLufDCMHKMioh2\n",
    "# 1 point (easy)\n",
    "\n",
    "def stutter(word): \n",
    "  two = word[0]+word[1] \n",
    "  return(two + \"... \" + two+\"... \" + word + \"?\")\n"
   ]
  },
  {
   "cell_type": "code",
   "execution_count": 43,
   "metadata": {},
   "outputs": [
    {
     "name": "stdout",
     "output_type": "stream",
     "text": [
      "Passed\n",
      "Passed\n",
      "Passed\n",
      "Passed\n",
      "Passed\n",
      "Passed\n"
     ]
    }
   ],
   "source": [
    "# Your task is to determine if two nodes are adjacent in an undirected graph when given the adjacency matrix and the two nodes.\n",
    "# https://edabit.com/challenge/3DAkZHv2LZjgqWbvW\n",
    "# 2 points (medium)\n",
    "\n",
    "def is_adjacent(matrix, node1, node2):\n",
    "    if (matrix[node1][node2] == 1):\n",
    "        return True\n",
    "    else:\n",
    "        return False\n",
    "\n",
    "matrix = [[0,1,0,0],[1,0,1,1],[0,1,0,1],[0,1,1,0]]\n",
    "Test.assert_equals(is_adjacent(matrix, 0, 1), True)\n",
    "Test.assert_equals(is_adjacent(matrix, 0, 2), False)\n",
    "Test.assert_equals(is_adjacent(matrix, 2, 1), True)\n",
    "\n",
    "matrix = [[0,1,0,1,1], [1,0,1,0,0],[0,1,0,1,0],[1,0,1,0,1],[1,0,0,1,0]]\n",
    "Test.assert_equals(is_adjacent(matrix, 0, 3), True)\n",
    "Test.assert_equals(is_adjacent(matrix, 1, 4), False)\n",
    "Test.assert_equals(is_adjacent(matrix, 3, 2), True)"
   ]
  },
  {
   "cell_type": "code",
   "execution_count": 44,
   "metadata": {},
   "outputs": [
    {
     "name": "stdout",
     "output_type": "stream",
     "text": [
      "Passed\n",
      "Passed\n",
      "Passed\n",
      "Passed\n",
      "Passed\n",
      "Passed\n",
      "Passed\n"
     ]
    }
   ],
   "source": [
    "# Create a function that takes a number num and returns its length.\n",
    "# https://edabit.com/challenge/2zKetgAJp4WRFXiDT\n",
    "# 2 points (medium)\n",
    "\n",
    "def number_length(num):\n",
    "    leng = 0\n",
    "    if (num == 0):\n",
    "        leng = 1\n",
    "    while (num>0):\n",
    "        num //= 10\n",
    "        leng += 1\n",
    "    return leng\n",
    "\n",
    "Test.assert_equals(number_length(10), 2)\n",
    "Test.assert_equals(number_length(5000), 4)\n",
    "Test.assert_equals(number_length(0), 1)\n",
    "Test.assert_equals(number_length(4039182), 7)\n",
    "Test.assert_equals(number_length(9999999999999999), 16)\n",
    "Test.assert_equals(number_length(1), 1)\n",
    "Test.assert_equals(number_length(777777777777777777777777777777), 30)"
   ]
  },
  {
   "cell_type": "code",
   "execution_count": 49,
   "metadata": {},
   "outputs": [
    {
     "name": "stdout",
     "output_type": "stream",
     "text": [
      "Passed\n",
      "Passed\n",
      "Passed\n",
      "Passed\n",
      "Passed\n",
      "Passed\n",
      "Passed\n",
      "Passed\n",
      "Passed\n",
      "Passed\n"
     ]
    }
   ],
   "source": [
    "# Create a function that takes a variable number of arguments, each argument representing the number of items in a group, and returns the number of permutations (combinations) of items that you could get by taking one item from each group.\n",
    "# https://edabit.com/challenge/G9QRtAGXb9Cu368Pw\n",
    "# 3 points (hard)\n",
    "\n",
    "def combinations(*items):\n",
    "    sum = 1\n",
    "    for item in items:\n",
    "        if (item != 0):\n",
    "            sum = sum * item\n",
    "    return sum\n",
    "\n",
    "Test.assert_equals(combinations(2), 2)\n",
    "Test.assert_equals(combinations(2, 3), 6)\n",
    "Test.assert_equals(combinations(3, 5), 15)\n",
    "Test.assert_equals(combinations(5, 6, 7), 210)\n",
    "Test.assert_equals(combinations(5, 5, 5, 5), 625)\n",
    "Test.assert_equals(combinations(3, 6, 9), 162)\n",
    "Test.assert_equals(combinations(2, 3, 4, 5, 6, 7, 8, 9, 10), 3628800)\n",
    "Test.assert_equals(combinations(4, 5, 6), 120)\n",
    "Test.assert_equals(combinations(5, 6, 7, 8), 1680)\n",
    "Test.assert_equals(combinations(6, 7, 0), 42)"
   ]
  },
  {
   "cell_type": "code",
   "execution_count": 48,
   "metadata": {},
   "outputs": [
    {
     "name": "stdout",
     "output_type": "stream",
     "text": [
      "Passed\n",
      "Passed\n",
      "Passed\n",
      "Passed\n",
      "Passed\n",
      "Passed\n",
      "Passed\n",
      "Passed\n"
     ]
    }
   ],
   "source": [
    "# Create a function to perform basic arithmetic operations that includes addition, subtraction, multiplication and division on a string number\n",
    "# https://edabit.com/challenge/peezjw73G8BBGfHdW\n",
    "# 3 points (hard)\n",
    "\n",
    "def arithmetic_operation(n):\n",
    "    i = 0\n",
    "    num1 = ''\n",
    "    num2 = ''\n",
    "    while (n[i] !=' '):\n",
    "        num1 += n[i]\n",
    "        i += 1\n",
    "    j = i+1\n",
    "    if (n[i+3] != ' '):\n",
    "        i = i + 3\n",
    "    else: i = i+4\n",
    "    while (i < len(n)):\n",
    "        num2 += n[i]\n",
    "        i += 1\n",
    "    a = int(num1)\n",
    "    b = int(num2)\n",
    "    if n[j]=='+': return a + b\n",
    "    if n[j]=='-': return a - b\n",
    "    if n[j]=='*': return a * b\n",
    "    if n[j]=='/': \n",
    "        if (b != 0): return a // b\n",
    "        else: return -1\n",
    "        \n",
    "Test.assert_equals(arithmetic_operation(\"12 + 12\"), 24)\n",
    "Test.assert_equals(arithmetic_operation(\"22 - 12\"), 10)\n",
    "Test.assert_equals(arithmetic_operation(\"100 * 12\"), 1200)\n",
    "Test.assert_equals(arithmetic_operation(\"120 // 10\"), 12)\n",
    "Test.assert_equals(arithmetic_operation(\"122 // 0\"), -1)\n",
    "Test.assert_equals(arithmetic_operation(\"10 * 20\"), 200)\n",
    "Test.assert_equals(arithmetic_operation(\"10 - 10\"), 0)\n",
    "Test.assert_equals(arithmetic_operation(\"10 - 12\"), -2)"
   ]
  },
  {
   "cell_type": "code",
   "execution_count": 50,
   "metadata": {},
   "outputs": [
    {
     "name": "stdout",
     "output_type": "stream",
     "text": [
      "Passed\n",
      "Passed\n",
      "Passed\n",
      "Passed\n",
      "Passed\n"
     ]
    }
   ],
   "source": [
    "# Create a function that takes a number as an argument and returns \"Fizz\", \"Buzz\" or \"FizzBuzz\"\n",
    "# https://edabit.com/challenge/WXqH9qvvGkmx4dMvp\n",
    "# 2 point (medium)\n",
    "\n",
    "def fizz_buzz(num):\n",
    "    otvet=''\n",
    "    if (num % 3 == 0): otvet += 'Fizz'\n",
    "    if (num % 5 == 0): otvet += 'Buzz'\n",
    "    if (num % 3 != 0)and(num % 5 !=0): otvet = str(num)\n",
    "    return otvet\n",
    "\n",
    "Test.assert_equals(fizz_buzz(3), \"Fizz\", \"You gave \" + fizz_buzz(3) + \" and Fizz was needed\")\n",
    "Test.assert_equals(fizz_buzz(5), \"Buzz\", \"You gave \" + fizz_buzz(5) + \" and Buzz was needed\")\n",
    "Test.assert_equals(fizz_buzz(15), \"FizzBuzz\", \"You gave \" + fizz_buzz(15) + \" and FizzBuzz was needed\")\n",
    "Test.assert_equals(fizz_buzz(10), \"Buzz\", \"You gave \" + fizz_buzz(10) + \" and Buzz was needed\")\n",
    "Test.assert_equals(fizz_buzz(98), \"98\", \"You gave \" + fizz_buzz(98) + \" and 98 was needed\")"
   ]
  },
  {
   "cell_type": "code",
   "execution_count": 45,
   "metadata": {},
   "outputs": [
    {
     "name": "stdout",
     "output_type": "stream",
     "text": [
      "Passed\n",
      "Passed\n",
      "Passed\n",
      "Passed\n"
     ]
    }
   ],
   "source": [
    "# Write a function that takes coordinates of two points on a two-dimensional plane and returns the length of the line segment connecting those two points.\n",
    "# https://edabit.com/challenge/3Ekam9jvbNKHDtx4K\n",
    "# 2 point (medium)\n",
    "\n",
    "import math\n",
    "def line_length(dot1, dot2):\n",
    "    rass = math.sqrt((dot1[1] - dot2[1]) ** 2 + (dot1[0] - dot2[0]) ** 2)\n",
    "    return round(rass,2)\n",
    "\n",
    "Test.assert_equals(line_length([15, 7], [22, 11]), 8.06)\n",
    "Test.assert_equals(line_length([0, 0], [0, 0]), 0)\n",
    "Test.assert_equals(line_length([0, 0], [1, 1]), 1.41)\n",
    "Test.assert_equals(line_length([30, 10], [13, -5]), 22.67)"
   ]
  },
  {
   "cell_type": "code",
   "execution_count": null,
   "metadata": {},
   "outputs": [],
   "source": []
  }
 ],
 "metadata": {
  "kernelspec": {
   "display_name": "Python 3",
   "language": "python",
   "name": "python3"
  },
  "language_info": {
   "codemirror_mode": {
    "name": "ipython",
    "version": 3
   },
   "file_extension": ".py",
   "mimetype": "text/x-python",
   "name": "python",
   "nbconvert_exporter": "python",
   "pygments_lexer": "ipython3",
   "version": "3.7.0"
  }
 },
 "nbformat": 4,
 "nbformat_minor": 2
}
