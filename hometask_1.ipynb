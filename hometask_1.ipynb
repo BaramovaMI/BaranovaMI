{
 "cells": [
  {
   "cell_type": "code",
   "execution_count": 22,
   "metadata": {},
   "outputs": [],
   "source": [
    "# Write a function that stutters a word as if someone is struggling to read it. The first two letters are repeated twice with an ellipsis ... and space after each, and then the word is pronounced with a question mark ?.\n",
    "# https://edabit.com/challenge/gt9LLufDCMHKMioh2\n",
    "# 1 point (easy)\n",
    "\n",
    "def stutter(word): \n",
    "  two = word[0]+word[1] \n",
    "  return(two + \"... \" + two+\"... \" + word + \"?\")"
   ]
  },
  {
   "cell_type": "code",
   "execution_count": 23,
   "metadata": {},
   "outputs": [],
   "source": [
    "# Your task is to determine if two nodes are adjacent in an undirected graph when given the adjacency matrix and the two nodes.\n",
    "# https://edabit.com/challenge/3DAkZHv2LZjgqWbvW\n",
    "# 2 points (medium)\n",
    "\n",
    "def is_adjacent(matrix, node1, node2):\n",
    "    if (matrix[node1][node2] == 1):\n",
    "        return True\n",
    "    else:\n",
    "        return False"
   ]
  },
  {
   "cell_type": "code",
   "execution_count": 24,
   "metadata": {},
   "outputs": [],
   "source": [
    "# Create a function that takes a number num and returns its length.\n",
    "# https://edabit.com/challenge/2zKetgAJp4WRFXiDT\n",
    "# 2 points (medium)\n",
    "\n",
    "def number_length(num):\n",
    "    leng = 0\n",
    "    if (num == 0):\n",
    "        leng = 1\n",
    "    while (num>0):\n",
    "        num //= 10\n",
    "        leng += 1\n",
    "    return leng"
   ]
  },
  {
   "cell_type": "code",
   "execution_count": 37,
   "metadata": {},
   "outputs": [],
   "source": [
    "# Create a function that takes a variable number of arguments, each argument representing the number of items in a group, and returns the number of permutations (combinations) of items that you could get by taking one item from each group.\n",
    "# https://edabit.com/challenge/G9QRtAGXb9Cu368Pw\n",
    "# 3 points (hard)\n",
    "\n",
    "def combinations(*items):\n",
    "    sum = 1\n",
    "    for item in items:\n",
    "        if (item != 0):\n",
    "            sum = sum * item\n",
    "    return sum"
   ]
  },
  {
   "cell_type": "code",
   "execution_count": null,
   "metadata": {},
   "outputs": [],
   "source": [
    "# Create a function to perform basic arithmetic operations that includes addition, subtraction, multiplication and division on a string number\n",
    "# https://edabit.com/challenge/peezjw73G8BBGfHdW\n",
    "# 3 points (hard)\n",
    "\n",
    "def arithmetic_operation(n):\n",
    "    i = 0\n",
    "    num1 = ''\n",
    "    num2 = ''\n",
    "    while (n[i] !=' '):\n",
    "        num1 += n[i]\n",
    "        i += 1\n",
    "    j = i+1\n",
    "    if (n[i+3] != ' '):\n",
    "        i = i + 3\n",
    "    else: i = i+4\n",
    "    while (i < len(n)):\n",
    "        num2 += n[i]\n",
    "        i += 1\n",
    "    a = int(num1)\n",
    "    b = int(num2)\n",
    "    if n[j]=='+': return a + b\n",
    "    if n[j]=='-': return a - b\n",
    "    if n[j]=='*': return a * b\n",
    "    if n[j]=='/': \n",
    "        if (b != 0): return a // b\n",
    "        else: return -1"
   ]
  },
  {
   "cell_type": "code",
   "execution_count": 38,
   "metadata": {},
   "outputs": [],
   "source": [
    "# Create a function that takes a number as an argument and returns \"Fizz\", \"Buzz\" or \"FizzBuzz\"\n",
    "# https://edabit.com/challenge/WXqH9qvvGkmx4dMvp\n",
    "# 2 point (medium)\n",
    "\n",
    "def fizz_buzz(num):\n",
    "    otvet=''\n",
    "    if (num % 3 == 0): otvet += 'Fizz'\n",
    "    if (num % 5 == 0): otvet += 'Buzz'\n",
    "    if (num % 3 != 0)and(num % 5 !=0): otvet = str(num)\n",
    "    return otvet"
   ]
  },
  {
   "cell_type": "code",
   "execution_count": null,
   "metadata": {},
   "outputs": [],
   "source": [
    "# Write a function that takes coordinates of two points on a two-dimensional plane and returns the length of the line segment connecting those two points.\n",
    "# https://edabit.com/challenge/3Ekam9jvbNKHDtx4K\n",
    "# 2 point (medium)\n",
    "\n",
    "import math\n",
    "def line_length(dot1, dot2):\n",
    "    rass = math.sqrt((dot1[1] - dot2[1]) ** 2 + (dot1[0] - dot2[0]) ** 2)\n",
    "    return round(rass,2)"
   ]
  }
 ],
 "metadata": {
  "kernelspec": {
   "display_name": "Python 3",
   "language": "python",
   "name": "python3"
  },
  "language_info": {
   "codemirror_mode": {
    "name": "ipython",
    "version": 3
   },
   "file_extension": ".py",
   "mimetype": "text/x-python",
   "name": "python",
   "nbconvert_exporter": "python",
   "pygments_lexer": "ipython3",
   "version": "3.7.0"
  }
 },
 "nbformat": 4,
 "nbformat_minor": 2
}
