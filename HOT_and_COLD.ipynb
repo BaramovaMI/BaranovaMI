{
  "nbformat": 4,
  "nbformat_minor": 0,
  "metadata": {
    "colab": {
      "name": "HOT and COLD",
      "provenance": []
    },
    "kernelspec": {
      "name": "python3",
      "display_name": "Python 3"
    },
    "language_info": {
      "name": "python"
    }
  },
  "cells": [
    {
      "cell_type": "code",
      "source": [
        "import numpy as np"
      ],
      "metadata": {
        "id": "U-5TwhdMmrAQ"
      },
      "execution_count": 47,
      "outputs": []
    },
    {
      "cell_type": "code",
      "source": [
        "P=np.array(           #матрица переходов для H и C\n",
        "    [[0.5,0.5],       #C\n",
        "    [0.4,0.6]])       #H\n",
        "B=np.array(           #матрица переходов между скрытыми и видимыми состояниями\n",
        "    [[0.5,0.4,0.1],   #C\n",
        "    [0.2,0.4,0.4]])   #H\n",
        "pi=np.array([0.2,0.8])\n",
        "o=np.array([1,3,3,2,3,3,3,2,1,2,1,1,3,1,3,3,3]) #видимые состояния\n",
        "o = o - 1                                       #так как тут в матричках нумерация с 0"
      ],
      "metadata": {
        "id": "fe8L7Ifx14eM"
      },
      "execution_count": 50,
      "outputs": []
    },
    {
      "cell_type": "code",
      "source": [
        "def Likelihood(P,B,pi,o):\n",
        "  k = 1 \n",
        "  N = len(o)\n",
        "  alpha = B[:,o[0]]*pi        #alpha_1\n",
        "  while (k < N):\n",
        "    alpharet = alpha          #рекурентно вычисляем alpha_N[j] для j \\in {0,1}\n",
        "    alpha[0] = alpharet[0]*B[0,o[k]]*P[0,0]+alpharet[1]*B[0,o[k]]*P[1,0]\n",
        "    alpha[1] = alpharet[0]*B[1,o[k]]*P[0,1]+alpharet[1]*B[1,o[k]]*P[1,1]\n",
        "    k += 1\n",
        "  print(alpha)\n",
        "  return alpha.sum()\n",
        "\n",
        "print(Likelihood(P,B,pi,o))"
      ],
      "metadata": {
        "colab": {
          "base_uri": "https://localhost:8080/"
        },
        "id": "5xDvmsboLJWZ",
        "outputId": "51eb6b57-a233-4d68-89e0-1579dab93fb7"
      },
      "execution_count": 51,
      "outputs": [
        {
          "output_type": "stream",
          "name": "stdout",
          "text": [
            "[5.64383155e-12 2.61908373e-11]\n",
            "3.183466888724162e-11\n"
          ]
        }
      ]
    },
    {
      "cell_type": "code",
      "source": [
        ""
      ],
      "metadata": {
        "id": "AFFIW3m7krJ7"
      },
      "execution_count": null,
      "outputs": []
    }
  ]
}