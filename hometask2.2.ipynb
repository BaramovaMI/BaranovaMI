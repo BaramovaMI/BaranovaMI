{
 "cells": [
  {
   "cell_type": "code",
   "execution_count": 41,
   "metadata": {},
   "outputs": [
    {
     "data": {
      "text/plain": [
       "Text(0,0.5,'Паста')"
      ]
     },
     "execution_count": 41,
     "metadata": {},
     "output_type": "execute_result"
    },
    {
     "data": {
      "image/png": "[encoded data removed]",
      "text/plain": [
       "<Figure size 432x288 with 1 Axes>"
      ]
     },
     "metadata": {
      "needs_background": "light"
     },
     "output_type": "display_data"
    }
   ],
   "source": [
    "#5-ая задача\n",
    "\n",
    "import numpy as np\n",
    "import matplotlib.pyplot as plt\n",
    "\n",
    "data  = np.array([[ 1.9,2.3],[ 1.5,2.5],[ 0.8,0.6],[ 0.4,1.8],[ 0.1,0.1],[ 0.2,1.8],[ 2.0,0.5],[ 0.3,1.5],[ 1.0,1.0]])\n",
    "plt.scatter(data[:,0],data[:,1])\n",
    "plt.xlabel('Бургеры')\n",
    "plt.ylabel('Паста')"
   ]
  },
  {
   "cell_type": "code",
   "execution_count": 95,
   "metadata": {},
   "outputs": [
    {
     "name": "stdout",
     "output_type": "stream",
     "text": [
      "5\n",
      "[[0.3        1.5       ]\n",
      " [0.3        1.8       ]\n",
      " [1.7        2.4       ]\n",
      " [0.63333333 0.56666667]\n",
      " [2.         0.5       ]]\n"
     ]
    },
    {
     "data": {
      "image/png": "[encoded data removed]",
      "text/plain": [
       "<Figure size 432x288 with 1 Axes>"
      ]
     },
     "metadata": {
      "needs_background": "light"
     },
     "output_type": "display_data"
    }
   ],
   "source": [
    "num_cluster = int(input())\n",
    "def Sredne(obs,num_cluster,iterat=20, thresh=1e-05):\n",
    "    DIM = 2\n",
    "    N = obs.shape[0]\n",
    "\n",
    "    x = obs\n",
    "    y = np.zeros(N)\n",
    "    k=np.arange(0,num_cluster,1)\n",
    "    \n",
    "    index_ = np.random.choice(range(N),num_cluster,replace=False)\n",
    "    mean = x[index_]\n",
    "    s1 = 0\n",
    "    s2 = 0\n",
    "    t = 0\n",
    "\n",
    "    while(s2-s1 > thresh or t < iterat):\n",
    "        if t != 0:\n",
    "            mean=np.array(list(map(lambda m: np.mean(x[y==m], axis=0), k)))\n",
    "            s = list(map(lambda m: ((mean[m,0])**2 + (mean[m,1])**2)**(1/2), k))\n",
    "            s1 = (np.sum(s))\n",
    "        for i in range(N):\n",
    "            dist = np.sum((mean - x[i])**2, axis=1)\n",
    "            pred = np.argmin(dist)\n",
    "            y[i] = pred\n",
    "        s = list(map(lambda m: ((mean[m,0])**2 + (mean[m,1])**2)**(1/2), k))\n",
    "        s1 = (np.sum(s))\n",
    "        t+=1\n",
    "    print(np.array(mean))\n",
    "    plt.scatter(x[:,0], x[:,1], c = y)\n",
    "    plt.show()\n",
    "Sredne(data,num_cluster)"
   ]
  },
  {
   "cell_type": "code",
   "execution_count": null,
   "metadata": {},
   "outputs": [],
   "source": []
  }
 ],
 "metadata": {
  "kernelspec": {
   "display_name": "Python 3",
   "language": "python",
   "name": "python3"
  },
  "language_info": {
   "codemirror_mode": {
    "name": "ipython",
    "version": 3
   },
   "file_extension": ".py",
   "mimetype": "text/x-python",
   "name": "python",
   "nbconvert_exporter": "python",
   "pygments_lexer": "ipython3",
   "version": "3.7.0"
  }
 },
 "nbformat": 4,
 "nbformat_minor": 2
}
